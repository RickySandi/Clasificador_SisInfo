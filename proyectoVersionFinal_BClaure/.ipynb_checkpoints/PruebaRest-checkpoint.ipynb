{
 "cells": [
  {
   "cell_type": "code",
   "execution_count": 1,
   "metadata": {},
   "outputs": [],
   "source": [
    "import pandas as pd\n",
    "import numpy as np\n",
    "import nltk\n",
    "from xgboost.sklearn import XGBClassifier\n",
    "import string\n",
    "from nltk.tokenize import sent_tokenize\n",
    "from bs4 import BeautifulSoup\n",
    "import re\n",
    "import pickle\n",
    "import os\n",
    "from sklearn.tree import DecisionTreeClassifier\n",
    "from sklearn.model_selection import train_test_split\n",
    "from sklearn.metrics import accuracy_score, confusion_matrix, precision_score, recall_score, f1_score\n",
    "from sklearn.ensemble import RandomForestClassifier"
   ]
  },
  {
   "cell_type": "code",
   "execution_count": 9,
   "metadata": {},
   "outputs": [
    {
     "name": "stdout",
     "output_type": "stream",
     "text": [
      "85.6\n"
     ]
    }
   ],
   "source": [
    "data = pd.read_csv('imdb_dataset.csv',encoding=\"ISO-8859-1\")\n",
    "data.tail()\n",
    "data_prueba=data.sample(frac=0.005)\n",
    "\n",
    "matrizDic=[]\n",
    "i=0\n",
    "for index, row in data_prueba.iterrows():\n",
    "    z = {'Review':row[\"Review\"],'label':row['Label']}\n",
    "    i=i+1\n",
    "    matrizDic.append(z)\n",
    "import requests \n",
    "import json\n",
    "# defining the api-endpoint  \n",
    "API_ENDPOINT = \"http://127.0.0.1:12345/predict\"\n",
    "u=0\n",
    "for i in matrizDic:\n",
    "    data = json.dumps({'Review':i[\"Review\"]})\n",
    "    r = requests.post(url = API_ENDPOINT, data=data) \n",
    "    pastebin_url = r.text\n",
    "    d = json.loads(pastebin_url)\n",
    "    if(d[\"label\"]==i[\"label\"]):\n",
    "        u=u+1\n",
    "print(u/len(matrizDic)*100)"
   ]
  }
 ],
 "metadata": {
  "kernelspec": {
   "display_name": "Python 3",
   "language": "python",
   "name": "python3"
  },
  "language_info": {
   "codemirror_mode": {
    "name": "ipython",
    "version": 3
   },
   "file_extension": ".py",
   "mimetype": "text/x-python",
   "name": "python",
   "nbconvert_exporter": "python",
   "pygments_lexer": "ipython3",
   "version": "3.7.6"
  }
 },
 "nbformat": 4,
 "nbformat_minor": 4
}
